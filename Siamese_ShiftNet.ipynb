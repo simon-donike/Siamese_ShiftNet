{
 "cells": [
  {
   "cell_type": "markdown",
   "id": "2707fb29",
   "metadata": {
    "tags": []
   },
   "source": [
    "# Imports"
   ]
  },
  {
   "cell_type": "code",
   "execution_count": 1,
   "id": "4cad7a0a",
   "metadata": {},
   "outputs": [
    {
     "name": "stderr",
     "output_type": "stream",
     "text": [
      "C:\\Users\\accou\\anaconda3\\envs\\sr3\\lib\\site-packages\\tqdm\\auto.py:22: TqdmWarning: IProgress not found. Please update jupyter and ipywidgets. See https://ipywidgets.readthedocs.io/en/stable/user_install.html\n",
      "  from .autonotebook import tqdm as notebook_tqdm\n"
     ]
    }
   ],
   "source": [
    "# general\n",
    "import time\n",
    "from datetime import datetime\n",
    "import io\n",
    "import numpy as np\n",
    "import matplotlib.pyplot as plt\n",
    "import PIL\n",
    "from tqdm import tqdm\n",
    "import wandb\n",
    "from pynvml import *\n",
    "import kornia\n",
    "\n",
    "# torch\n",
    "import torch\n",
    "from torch import nn\n",
    "import torch.backends.cudnn as cudnn\n",
    "from torch.utils.data import DataLoader\n",
    "import torchvision\n",
    "\n",
    "device = torch.device(\"cuda\" if torch.cuda.is_available() else \"cpu\")"
   ]
  },
  {
   "cell_type": "code",
   "execution_count": 2,
   "id": "d16a3325",
   "metadata": {},
   "outputs": [],
   "source": [
    "# custom imports\n",
    "from lanczos import lanczos_2d as lanczos\n",
    "from model.shiftnet_losses import define_loss\n",
    "from utils.helper_functions import get_lr\n",
    "from utils.helper_functions import plot_tensors\n",
    "from utils.helper_functions import plot_tensors_extra_info\n",
    "from utils.helper_functions import minmax_percentile\n",
    "from utils.dataloader_spot import dataset_spot6\n",
    "\n",
    "# Sesure DataLoader\n",
    "from utils.dataloader import Dataset as dataset\n",
    "\n",
    "# model\n",
    "from model.shiftnet import ShiftNet"
   ]
  },
  {
   "cell_type": "code",
   "execution_count": 3,
   "id": "5a309846",
   "metadata": {},
   "outputs": [],
   "source": [
    "from lanczos.lanczos_2d import lanczos_shift\n",
    "from lanczos.lanczos_2d import lanczos_kernel\n",
    "from lanczos import lanczos_2d as lanczos\n",
    "from model.shiftnet import get_thetas\n",
    "from model.shiftnet import apply_shifts\n",
    "from model.shiftnet import get_shift_loss\n",
    "from model.shiftnet import ShiftNet\n",
    "from model.shiftnet_losses import define_loss"
   ]
  },
  {
   "cell_type": "markdown",
   "id": "de82b7be",
   "metadata": {},
   "source": [
    "# 0. Config"
   ]
  },
  {
   "cell_type": "code",
   "execution_count": null,
   "id": "aaada9ec",
   "metadata": {},
   "outputs": [],
   "source": [
    "config = {\n",
    "    \"lr\":0.00001,\n",
    "    \"batch_size\":8,\n",
    "    \"epochs\":100,\n",
    "    \"shift_factor\":round((1/300)*10,3), #10 stands for pixels - max shift in factor\n",
    "    \"shiftnet_loss_relative\":False,\n",
    "    \n",
    "    \"data_loader\":{\n",
    "        \"batch_size\":8,\n",
    "        \"num_workers\":4,\n",
    "        \"prefetch_factor\":8,\n",
    "        },\n",
    "    \n",
    "    \"logging\":{\n",
    "        # Logging Settings\n",
    "        \"log_freq\":1, # in it\n",
    "        \"image_freq\":10, # in it\n",
    "        \"wandb_project\":\"Siamese_ShiftNet\",\n",
    "        \"wandb_entity\":\"simon-donike\",\n",
    "        }\n",
    "}"
   ]
  },
  {
   "cell_type": "code",
   "execution_count": 23,
   "id": "1334be9c",
   "metadata": {},
   "outputs": [],
   "source": [
    "dataset_train = dataset_spot6(\"data/train/\")\n",
    "train_loader = DataLoader(dataset_train,\n",
    "                          batch_size=config[\"data_loader\"][\"batch_size\"],\n",
    "                          shuffle=True,pin_memory=True,drop_last=True,\n",
    "                          num_workers=config[\"data_loader\"][\"num_workers\"],\n",
    "                          prefetch_factor=config[\"data_loader\"][\"prefetch_factor\"]) # prefetch 32"
   ]
  },
  {
   "cell_type": "code",
   "execution_count": 24,
   "id": "87379a0a",
   "metadata": {},
   "outputs": [],
   "source": [
    "def plot_tensor(t,title=\"\"):\n",
    "    t_ = t.clone()\n",
    "    t_ = t_[0].cpu().detach().numpy().transpose(1,2,0)\n",
    "    t_ = minmax_percentile(t_)\n",
    "    plt.imshow(t_)\n",
    "    plt.title(title)\n",
    "    plt.show()\n",
    "    \n",
    "def shifter(im,shift_factor=0.05):\n",
    "    affinator = torchvision.transforms.Compose([torchvision.transforms.RandomAffine(degrees=0, translate=(shift_factor,shift_factor), scale=None, shear=None,\n",
    "                                    interpolation=torchvision.transforms.InterpolationMode.NEAREST, fill=0 )]) # center=None\n",
    "    im = affinator(im)\n",
    "    return(im)\n",
    "\n",
    "def plot_siamese_info(hr,sr,hr_small,sr_small,encoded_hr,encoded_sr,new_images,thetas,mode=\"return\"):\n",
    "    \n",
    "    # transform images\n",
    "    hr,sr,encoded_hr,encoded_sr = hr[0].cpu().detach().numpy().transpose(1,2,0),sr[0].cpu().detach().numpy().transpose(1,2,0),encoded_hr[0].cpu().detach().numpy().transpose(1,2,0),encoded_sr[0].cpu().detach().numpy().transpose(1,2,0)\n",
    "    hr,sr,encoded_hr,encoded_sr = minmax_percentile(hr),minmax_percentile(sr),minmax_percentile(encoded_hr),minmax_percentile(encoded_sr)\n",
    "    hr_small,sr_small = hr_small[0][0].cpu().detach().numpy(),sr_small[0][0].cpu().detach().numpy()\n",
    "    hr_small,sr_small = minmax_percentile(hr_small),minmax_percentile(sr_small)\n",
    "    \n",
    "    new_images = new_images[0].cpu().detach().numpy().transpose(1,2,0)\n",
    "    new_images = minmax_percentile(new_images)\n",
    "    # prepare thetas\n",
    "    values = thetas.detach().cpu()[0]\n",
    "    \n",
    "    \n",
    "    # create image\n",
    "    fig, axs = plt.subplots(2, 4,figsize=(20,10),facecolor='white')\n",
    "    # plot images\n",
    "    axs[0,0].imshow(hr)\n",
    "    axs[0,0].set_title(\"HR\")\n",
    "    \n",
    "    axs[1,0].imshow(sr)\n",
    "    axs[1,0].set_title(\"SR\")\n",
    "    \n",
    "    axs[0,1].imshow(encoded_hr)\n",
    "    axs[0,1].set_title(\"Encoded HR\")\n",
    "    \n",
    "    axs[1,1].imshow(encoded_sr)\n",
    "    axs[1,1].set_title(\"Encoded SR\")\n",
    "    \n",
    "    axs[0,2].imshow(hr_small)\n",
    "    axs[0,2].set_title(\"Encoded HR ShiftNet window\")\n",
    "    \n",
    "    axs[1,2].imshow(sr_small)\n",
    "    axs[1,2].set_title(\"Encoded SR ShiftNet window\")\n",
    "    \n",
    "    axs[1,3].imshow(new_images)\n",
    "    axs[1,3].set_title(\"Shifted Image\")\n",
    "    \n",
    "    # draw arrow\n",
    "    axs[0,3].arrow(0,0, -1*values[0],-1*values[1],length_includes_head=True,width=0.2)\n",
    "    axs[0,3].set_ylim(-10, 10) # set limits at 10 so they stay the same\n",
    "    axs[0,3].set_xlim(-10, 10) # set limits at 10 so they stay the same\n",
    "    axs[0,3].set_title(\"Pred. Shifts (px)\\nX:  \"+str(round(float(values[0]),2))+\"\\nY:  \" + str(round(float(-1*values[1]),2)))\n",
    "    axs[0,3].set_xticks([-9,-8,-7,-6,-5,-4,-3,-2,-1,0,1,2,3,4,5,6,7,8,9])\n",
    "    axs[0,3].set_yticks([-9,-8,-7,-6,-5,-4,-3,-2,-1,0,1,2,3,4,5,6,7,8,9])\n",
    "    axs[0,3].grid(alpha=0.4) # draw gridlines \n",
    "    if mode==\"show\":\n",
    "        plt.show()\n",
    "        return(None)\n",
    "    if mode == \"return\":\n",
    "        plt.close()\n",
    "        return(fig)\n",
    "    if mode==\"log\":\n",
    "        # return wandb image dtype\n",
    "        buf = io.BytesIO()\n",
    "        fig.savefig(buf)\n",
    "        buf.seek(0)\n",
    "        im = PIL.Image.open(buf)\n",
    "        image = wandb.Image(im, caption=\"Image\")\n",
    "        wandb.log({\"image\":image})\n",
    "        plt.close()\n",
    "        return(None)\n",
    "        "
   ]
  },
  {
   "cell_type": "code",
   "execution_count": 25,
   "id": "d64f1f70",
   "metadata": {},
   "outputs": [],
   "source": [
    "class siamese_arm(nn.Module):\n",
    "    ''' ShiftNet, a neural network for sub-pixel registration and interpolation with lanczos kernel. '''\n",
    "    \n",
    "    def __init__(self,in_channel=1):\n",
    "        \n",
    "        super(siamese_arm, self).__init__()\n",
    "\n",
    "        self.layer1 = nn.Sequential(nn.Conv2d(in_channel, 32, 3, padding=1),nn.BatchNorm2d(32),nn.ReLU()) # nn.BatchNorm2d(128)\n",
    "        self.layer2 = nn.Sequential(nn.Conv2d(32, 64, 3, padding=1),nn.BatchNorm2d(64),nn.ReLU())\n",
    "        self.layer3 = nn.Sequential(nn.Conv2d(64, 64, 3, padding=1),nn.BatchNorm2d(64),nn.ReLU())\n",
    "        self.layer4 = nn.Sequential(nn.Conv2d(64, 32, 3, padding=1),nn.BatchNorm2d(32),nn.ReLU())\n",
    "        self.layer5 = nn.Sequential(nn.Conv2d(32, 1, 3, padding=1),nn.BatchNorm2d(1),nn.ReLU())\n",
    "\n",
    "        \n",
    "    def forward(self, x):\n",
    "        '''\n",
    "        Args:\n",
    "            in: (tensor, BxCxWxH): LR or SR image to be encoded before shift determination\n",
    "            out: (tensor, BxCxWxH): encoded image\n",
    "        '''\n",
    "        \n",
    "        out = self.layer1(x)\n",
    "        out = self.layer2(out)\n",
    "        out = self.layer3(out)\n",
    "        out = self.layer4(out)\n",
    "        out = self.layer5(out)\n",
    "        return out \n",
    "    \n"
   ]
  },
  {
   "cell_type": "code",
   "execution_count": 26,
   "id": "863a2fc8",
   "metadata": {},
   "outputs": [],
   "source": [
    "# Instanciate Siamese Models\n",
    "arm_hr = siamese_arm(in_channel=3).to(device).train()\n",
    "arm_sr = siamese_arm(in_channel=3).to(device).train()\n",
    "\n",
    "# Instanciate Shiftnet\n",
    "regis_model = ShiftNet(in_channel=1).to(device).train()\n",
    "shiftnet_loss = define_loss(\"MAE\")\n",
    "\n",
    "# set up optimizer\n",
    "# just add both arms + shiftnet\n",
    "optimizer = torch.optim.Adam(list(arm_hr.parameters()) + list(arm_sr.parameters())+\n",
    "                                list(regis_model.parameters()), lr=config[\"lr\"])  # opt"
   ]
  },
  {
   "cell_type": "code",
   "execution_count": null,
   "id": "3c35a328",
   "metadata": {},
   "outputs": [
    {
     "data": {
      "text/html": [
       "wandb version 0.13.7 is available!  To upgrade, please run:\n",
       " $ pip install wandb --upgrade"
      ],
      "text/plain": [
       "<IPython.core.display.HTML object>"
      ]
     },
     "metadata": {},
     "output_type": "display_data"
    },
    {
     "data": {
      "text/html": [
       "Tracking run with wandb version 0.13.4"
      ],
      "text/plain": [
       "<IPython.core.display.HTML object>"
      ]
     },
     "metadata": {},
     "output_type": "display_data"
    },
    {
     "data": {
      "text/html": [
       "Run data is saved locally in <code>E:\\GitHub_extern_PhD\\Siamese_ShiftNet\\wandb\\run-20221222_194020-2ac1ij6e</code>"
      ],
      "text/plain": [
       "<IPython.core.display.HTML object>"
      ]
     },
     "metadata": {},
     "output_type": "display_data"
    },
    {
     "data": {
      "text/html": [
       "Syncing run <strong><a href=\"https://wandb.ai/simon-donike/Siamese_ShiftNet/runs/2ac1ij6e\" target=\"_blank\">Siamese_ShiftNet_22-12-2022_19-40-20</a></strong> to <a href=\"https://wandb.ai/simon-donike/Siamese_ShiftNet\" target=\"_blank\">Weights & Biases</a> (<a href=\"https://wandb.me/run\" target=\"_blank\">docs</a>)<br/>"
      ],
      "text/plain": [
       "<IPython.core.display.HTML object>"
      ]
     },
     "metadata": {},
     "output_type": "display_data"
    },
    {
     "name": "stderr",
     "output_type": "stream",
     "text": [
      "100%|##############################################################################| 1250/1250 [08:11<00:00,  2.54it/s]\n",
      "100%|##############################################################################| 1250/1250 [08:14<00:00,  2.53it/s]\n",
      "100%|##############################################################################| 1250/1250 [08:21<00:00,  2.49it/s]\n",
      "100%|##############################################################################| 1250/1250 [08:29<00:00,  2.46it/s]\n",
      "100%|##############################################################################| 1250/1250 [08:42<00:00,  2.39it/s]\n",
      "100%|##############################################################################| 1250/1250 [08:29<00:00,  2.45it/s]\n",
      "100%|##############################################################################| 1250/1250 [08:37<00:00,  2.41it/s]\n",
      "100%|##############################################################################| 1250/1250 [07:49<00:00,  2.66it/s]\n",
      "100%|##############################################################################| 1250/1250 [07:32<00:00,  2.76it/s]\n",
      "100%|##############################################################################| 1250/1250 [07:45<00:00,  2.68it/s]\n",
      "100%|##############################################################################| 1250/1250 [07:36<00:00,  2.74it/s]\n",
      " 14%|###########                                                                    | 175/1250 [01:07<06:02,  2.96it/s]"
     ]
    }
   ],
   "source": [
    "# logging settings\n",
    "run_name = \"Siamese_ShiftNet_\"+str(datetime.now().strftime(\"%d-%m-%Y_%H-%M-%S\"))\n",
    "wandb.init(name=run_name,project=config[\"logging\"][\"wandb_project\"], entity=config[\"logging\"][\"wandb_entity\"],config=config)\n",
    "\n",
    "#iterate over epochs\n",
    "for epoch in range(config[\"epochs\"]):\n",
    "    epoch=epoch+1\n",
    "    \n",
    "    # iterate over datalaoder\n",
    "    it=0\n",
    "    for hr in tqdm(train_loader,ascii=True):\n",
    "        it+=1\n",
    "        hr = hr.to(device) # get HR image\n",
    "        sr = shifter(hr).to(device) # generate shifted image\n",
    "\n",
    "        # encode HR and LR\n",
    "        encoded_hr = arm_hr(hr)\n",
    "        encoded_sr = arm_hr(sr)\n",
    "\n",
    "        # calculate predicted thetas\n",
    "        #sr = encoded_sr\n",
    "        #hr = encoded_hr\n",
    "        thetas, hr_small, sr_small = get_thetas(encoded_hr,encoded_sr,regis_model,n_channels=sr.shape[1])\n",
    "        # perform shift based on calculated thetas\n",
    "        new_images,thetas = apply_shifts(sr,thetas,regis_model,n_channels=3)\n",
    "        # calculate train loss according to defined function\n",
    "        train_loss,hr_loss,new_images_loss = get_shift_loss(new_images,encoded_hr,shiftnet_loss,sr_small,hr_small,\n",
    "                                                            relative_loss=config[\"shiftnet_loss_relative\"])\n",
    "\n",
    "        # train network\n",
    "        optimizer.zero_grad()\n",
    "        train_loss.backward()\n",
    "        optimizer.step()\n",
    "        #break\n",
    "        if it%config[\"logging\"][\"log_freq\"]==0 and it!=0:\n",
    "            # Log Shiftnet\n",
    "            losses_shiftnet = {\n",
    "                \"General/train_loss\":train_loss,\n",
    "                \"ShiftNet/mae\":torch.nn.functional.l1_loss(new_images,hr),\n",
    "                \"ShiftNet/mse\":torch.nn.functional.mse_loss(new_images,hr),\n",
    "                \"ShiftNet/ssim_loss\":kornia.losses.ssim_loss(new_images,hr,window_size=5),\n",
    "                \"ShiftNet/psnr_loss\":kornia.losses.psnr_loss(new_images,hr,max_val=1.0),\n",
    "                \"ShiftNet/lr\":get_lr(optimizer)\n",
    "                \"ShiftNet/SR_encoded_mean\":torch.mean(encoded_sr),\n",
    "                \"ShiftNet/HR_encoded_mean\":torch.mean(encoded_hr)}\n",
    "            # send to WandB\n",
    "            wandb.log(losses_shiftnet)\n",
    "        if it%config[\"logging\"][\"image_freq\"]==0 and it!=0:\n",
    "            plot_siamese_info(hr,sr,hr_small,sr_small,encoded_hr,encoded_sr,new_images,thetas,mode=\"log\")\n",
    "wandb.finish()"
   ]
  },
  {
   "cell_type": "code",
   "execution_count": null,
   "id": "c2c47c05",
   "metadata": {},
   "outputs": [],
   "source": []
  },
  {
   "cell_type": "code",
   "execution_count": null,
   "id": "7ff5db0f",
   "metadata": {},
   "outputs": [],
   "source": []
  }
 ],
 "metadata": {
  "kernelspec": {
   "display_name": "Python 3 (ipykernel)",
   "language": "python",
   "name": "python3"
  },
  "language_info": {
   "codemirror_mode": {
    "name": "ipython",
    "version": 3
   },
   "file_extension": ".py",
   "mimetype": "text/x-python",
   "name": "python",
   "nbconvert_exporter": "python",
   "pygments_lexer": "ipython3",
   "version": "3.9.13"
  }
 },
 "nbformat": 4,
 "nbformat_minor": 5
}
